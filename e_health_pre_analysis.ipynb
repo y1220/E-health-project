{
  "nbformat": 4,
  "nbformat_minor": 0,
  "metadata": {
    "colab": {
      "provenance": [],
      "toc_visible": true
    },
    "kernelspec": {
      "name": "python3",
      "display_name": "Python 3"
    },
    "language_info": {
      "name": "python"
    }
  },
  "cells": [
    {
      "cell_type": "code",
      "execution_count": 12,
      "metadata": {
        "colab": {
          "base_uri": "https://localhost:8080/",
          "height": 423
        },
        "id": "BmmFWj_gYinY",
        "outputId": "4c73a547-1fb8-4a4a-808b-0b9eba5b154e"
      },
      "outputs": [
        {
          "output_type": "execute_result",
          "data": {
            "text/plain": [
              "      age  gender  education  marital  income  phq_1  phq_2  phq_3  phq_4  \\\n",
              "0    42.0       1        5.0        1   18000      0    0.0    1.0      0   \n",
              "1    51.0       3       18.0        1   23000      0    0.0    0.0      0   \n",
              "2    40.0       0        8.0        1   10000      0    0.0    0.0      0   \n",
              "3    19.0       0       25.0        5   31000      2    1.0    0.0      0   \n",
              "4    42.0       2       13.0        1   40000      0    NaN    0.0      0   \n",
              "..    ...     ...        ...      ...     ...    ...    ...    ...    ...   \n",
              "155  29.0       2       18.0        0   25000      0    2.0    0.0      2   \n",
              "156  40.0       1       13.0        5   27000      2    1.0    2.0      0   \n",
              "157  40.0       0       13.0        0   26000      0    0.0    2.0      1   \n",
              "158  41.0       1        8.0        1   11000      0    NaN    1.0      0   \n",
              "159  55.0       0        8.0        2   32199      0    0.0    0.0      0   \n",
              "\n",
              "     phq_5  phq_6  phq_7  phq_8  phq_9  \n",
              "0        0      0    1.0    0.0    0.0  \n",
              "1        0      0    0.0    0.0    0.0  \n",
              "2        1      0    0.0    0.0    0.0  \n",
              "3        2      0    0.0    0.0    0.0  \n",
              "4        1      2    2.0    1.0    0.0  \n",
              "..     ...    ...    ...    ...    ...  \n",
              "155      0      2    0.0    1.0    0.0  \n",
              "156      2      1    0.0    0.0    1.0  \n",
              "157      0      0    0.0    0.0    2.0  \n",
              "158      0      0    0.0    0.0    0.0  \n",
              "159      0      0    0.0    0.0    0.0  \n",
              "\n",
              "[160 rows x 14 columns]"
            ],
            "text/html": [
              "\n",
              "  <div id=\"df-447a6444-5ba3-404d-a23d-2af064f2cd82\" class=\"colab-df-container\">\n",
              "    <div>\n",
              "<style scoped>\n",
              "    .dataframe tbody tr th:only-of-type {\n",
              "        vertical-align: middle;\n",
              "    }\n",
              "\n",
              "    .dataframe tbody tr th {\n",
              "        vertical-align: top;\n",
              "    }\n",
              "\n",
              "    .dataframe thead th {\n",
              "        text-align: right;\n",
              "    }\n",
              "</style>\n",
              "<table border=\"1\" class=\"dataframe\">\n",
              "  <thead>\n",
              "    <tr style=\"text-align: right;\">\n",
              "      <th></th>\n",
              "      <th>age</th>\n",
              "      <th>gender</th>\n",
              "      <th>education</th>\n",
              "      <th>marital</th>\n",
              "      <th>income</th>\n",
              "      <th>phq_1</th>\n",
              "      <th>phq_2</th>\n",
              "      <th>phq_3</th>\n",
              "      <th>phq_4</th>\n",
              "      <th>phq_5</th>\n",
              "      <th>phq_6</th>\n",
              "      <th>phq_7</th>\n",
              "      <th>phq_8</th>\n",
              "      <th>phq_9</th>\n",
              "    </tr>\n",
              "  </thead>\n",
              "  <tbody>\n",
              "    <tr>\n",
              "      <th>0</th>\n",
              "      <td>42.0</td>\n",
              "      <td>1</td>\n",
              "      <td>5.0</td>\n",
              "      <td>1</td>\n",
              "      <td>18000</td>\n",
              "      <td>0</td>\n",
              "      <td>0.0</td>\n",
              "      <td>1.0</td>\n",
              "      <td>0</td>\n",
              "      <td>0</td>\n",
              "      <td>0</td>\n",
              "      <td>1.0</td>\n",
              "      <td>0.0</td>\n",
              "      <td>0.0</td>\n",
              "    </tr>\n",
              "    <tr>\n",
              "      <th>1</th>\n",
              "      <td>51.0</td>\n",
              "      <td>3</td>\n",
              "      <td>18.0</td>\n",
              "      <td>1</td>\n",
              "      <td>23000</td>\n",
              "      <td>0</td>\n",
              "      <td>0.0</td>\n",
              "      <td>0.0</td>\n",
              "      <td>0</td>\n",
              "      <td>0</td>\n",
              "      <td>0</td>\n",
              "      <td>0.0</td>\n",
              "      <td>0.0</td>\n",
              "      <td>0.0</td>\n",
              "    </tr>\n",
              "    <tr>\n",
              "      <th>2</th>\n",
              "      <td>40.0</td>\n",
              "      <td>0</td>\n",
              "      <td>8.0</td>\n",
              "      <td>1</td>\n",
              "      <td>10000</td>\n",
              "      <td>0</td>\n",
              "      <td>0.0</td>\n",
              "      <td>0.0</td>\n",
              "      <td>0</td>\n",
              "      <td>1</td>\n",
              "      <td>0</td>\n",
              "      <td>0.0</td>\n",
              "      <td>0.0</td>\n",
              "      <td>0.0</td>\n",
              "    </tr>\n",
              "    <tr>\n",
              "      <th>3</th>\n",
              "      <td>19.0</td>\n",
              "      <td>0</td>\n",
              "      <td>25.0</td>\n",
              "      <td>5</td>\n",
              "      <td>31000</td>\n",
              "      <td>2</td>\n",
              "      <td>1.0</td>\n",
              "      <td>0.0</td>\n",
              "      <td>0</td>\n",
              "      <td>2</td>\n",
              "      <td>0</td>\n",
              "      <td>0.0</td>\n",
              "      <td>0.0</td>\n",
              "      <td>0.0</td>\n",
              "    </tr>\n",
              "    <tr>\n",
              "      <th>4</th>\n",
              "      <td>42.0</td>\n",
              "      <td>2</td>\n",
              "      <td>13.0</td>\n",
              "      <td>1</td>\n",
              "      <td>40000</td>\n",
              "      <td>0</td>\n",
              "      <td>NaN</td>\n",
              "      <td>0.0</td>\n",
              "      <td>0</td>\n",
              "      <td>1</td>\n",
              "      <td>2</td>\n",
              "      <td>2.0</td>\n",
              "      <td>1.0</td>\n",
              "      <td>0.0</td>\n",
              "    </tr>\n",
              "    <tr>\n",
              "      <th>...</th>\n",
              "      <td>...</td>\n",
              "      <td>...</td>\n",
              "      <td>...</td>\n",
              "      <td>...</td>\n",
              "      <td>...</td>\n",
              "      <td>...</td>\n",
              "      <td>...</td>\n",
              "      <td>...</td>\n",
              "      <td>...</td>\n",
              "      <td>...</td>\n",
              "      <td>...</td>\n",
              "      <td>...</td>\n",
              "      <td>...</td>\n",
              "      <td>...</td>\n",
              "    </tr>\n",
              "    <tr>\n",
              "      <th>155</th>\n",
              "      <td>29.0</td>\n",
              "      <td>2</td>\n",
              "      <td>18.0</td>\n",
              "      <td>0</td>\n",
              "      <td>25000</td>\n",
              "      <td>0</td>\n",
              "      <td>2.0</td>\n",
              "      <td>0.0</td>\n",
              "      <td>2</td>\n",
              "      <td>0</td>\n",
              "      <td>2</td>\n",
              "      <td>0.0</td>\n",
              "      <td>1.0</td>\n",
              "      <td>0.0</td>\n",
              "    </tr>\n",
              "    <tr>\n",
              "      <th>156</th>\n",
              "      <td>40.0</td>\n",
              "      <td>1</td>\n",
              "      <td>13.0</td>\n",
              "      <td>5</td>\n",
              "      <td>27000</td>\n",
              "      <td>2</td>\n",
              "      <td>1.0</td>\n",
              "      <td>2.0</td>\n",
              "      <td>0</td>\n",
              "      <td>2</td>\n",
              "      <td>1</td>\n",
              "      <td>0.0</td>\n",
              "      <td>0.0</td>\n",
              "      <td>1.0</td>\n",
              "    </tr>\n",
              "    <tr>\n",
              "      <th>157</th>\n",
              "      <td>40.0</td>\n",
              "      <td>0</td>\n",
              "      <td>13.0</td>\n",
              "      <td>0</td>\n",
              "      <td>26000</td>\n",
              "      <td>0</td>\n",
              "      <td>0.0</td>\n",
              "      <td>2.0</td>\n",
              "      <td>1</td>\n",
              "      <td>0</td>\n",
              "      <td>0</td>\n",
              "      <td>0.0</td>\n",
              "      <td>0.0</td>\n",
              "      <td>2.0</td>\n",
              "    </tr>\n",
              "    <tr>\n",
              "      <th>158</th>\n",
              "      <td>41.0</td>\n",
              "      <td>1</td>\n",
              "      <td>8.0</td>\n",
              "      <td>1</td>\n",
              "      <td>11000</td>\n",
              "      <td>0</td>\n",
              "      <td>NaN</td>\n",
              "      <td>1.0</td>\n",
              "      <td>0</td>\n",
              "      <td>0</td>\n",
              "      <td>0</td>\n",
              "      <td>0.0</td>\n",
              "      <td>0.0</td>\n",
              "      <td>0.0</td>\n",
              "    </tr>\n",
              "    <tr>\n",
              "      <th>159</th>\n",
              "      <td>55.0</td>\n",
              "      <td>0</td>\n",
              "      <td>8.0</td>\n",
              "      <td>2</td>\n",
              "      <td>32199</td>\n",
              "      <td>0</td>\n",
              "      <td>0.0</td>\n",
              "      <td>0.0</td>\n",
              "      <td>0</td>\n",
              "      <td>0</td>\n",
              "      <td>0</td>\n",
              "      <td>0.0</td>\n",
              "      <td>0.0</td>\n",
              "      <td>0.0</td>\n",
              "    </tr>\n",
              "  </tbody>\n",
              "</table>\n",
              "<p>160 rows × 14 columns</p>\n",
              "</div>\n",
              "    <div class=\"colab-df-buttons\">\n",
              "\n",
              "  <div class=\"colab-df-container\">\n",
              "    <button class=\"colab-df-convert\" onclick=\"convertToInteractive('df-447a6444-5ba3-404d-a23d-2af064f2cd82')\"\n",
              "            title=\"Convert this dataframe to an interactive table.\"\n",
              "            style=\"display:none;\">\n",
              "\n",
              "  <svg xmlns=\"http://www.w3.org/2000/svg\" height=\"24px\" viewBox=\"0 -960 960 960\">\n",
              "    <path d=\"M120-120v-720h720v720H120Zm60-500h600v-160H180v160Zm220 220h160v-160H400v160Zm0 220h160v-160H400v160ZM180-400h160v-160H180v160Zm440 0h160v-160H620v160ZM180-180h160v-160H180v160Zm440 0h160v-160H620v160Z\"/>\n",
              "  </svg>\n",
              "    </button>\n",
              "\n",
              "  <style>\n",
              "    .colab-df-container {\n",
              "      display:flex;\n",
              "      gap: 12px;\n",
              "    }\n",
              "\n",
              "    .colab-df-convert {\n",
              "      background-color: #E8F0FE;\n",
              "      border: none;\n",
              "      border-radius: 50%;\n",
              "      cursor: pointer;\n",
              "      display: none;\n",
              "      fill: #1967D2;\n",
              "      height: 32px;\n",
              "      padding: 0 0 0 0;\n",
              "      width: 32px;\n",
              "    }\n",
              "\n",
              "    .colab-df-convert:hover {\n",
              "      background-color: #E2EBFA;\n",
              "      box-shadow: 0px 1px 2px rgba(60, 64, 67, 0.3), 0px 1px 3px 1px rgba(60, 64, 67, 0.15);\n",
              "      fill: #174EA6;\n",
              "    }\n",
              "\n",
              "    .colab-df-buttons div {\n",
              "      margin-bottom: 4px;\n",
              "    }\n",
              "\n",
              "    [theme=dark] .colab-df-convert {\n",
              "      background-color: #3B4455;\n",
              "      fill: #D2E3FC;\n",
              "    }\n",
              "\n",
              "    [theme=dark] .colab-df-convert:hover {\n",
              "      background-color: #434B5C;\n",
              "      box-shadow: 0px 1px 3px 1px rgba(0, 0, 0, 0.15);\n",
              "      filter: drop-shadow(0px 1px 2px rgba(0, 0, 0, 0.3));\n",
              "      fill: #FFFFFF;\n",
              "    }\n",
              "  </style>\n",
              "\n",
              "    <script>\n",
              "      const buttonEl =\n",
              "        document.querySelector('#df-447a6444-5ba3-404d-a23d-2af064f2cd82 button.colab-df-convert');\n",
              "      buttonEl.style.display =\n",
              "        google.colab.kernel.accessAllowed ? 'block' : 'none';\n",
              "\n",
              "      async function convertToInteractive(key) {\n",
              "        const element = document.querySelector('#df-447a6444-5ba3-404d-a23d-2af064f2cd82');\n",
              "        const dataTable =\n",
              "          await google.colab.kernel.invokeFunction('convertToInteractive',\n",
              "                                                    [key], {});\n",
              "        if (!dataTable) return;\n",
              "\n",
              "        const docLinkHtml = 'Like what you see? Visit the ' +\n",
              "          '<a target=\"_blank\" href=https://colab.research.google.com/notebooks/data_table.ipynb>data table notebook</a>'\n",
              "          + ' to learn more about interactive tables.';\n",
              "        element.innerHTML = '';\n",
              "        dataTable['output_type'] = 'display_data';\n",
              "        await google.colab.output.renderOutput(dataTable, element);\n",
              "        const docLink = document.createElement('div');\n",
              "        docLink.innerHTML = docLinkHtml;\n",
              "        element.appendChild(docLink);\n",
              "      }\n",
              "    </script>\n",
              "  </div>\n",
              "\n",
              "\n",
              "<div id=\"df-5635b4c1-6fb3-4908-8f32-1abab4a93a0c\">\n",
              "  <button class=\"colab-df-quickchart\" onclick=\"quickchart('df-5635b4c1-6fb3-4908-8f32-1abab4a93a0c')\"\n",
              "            title=\"Suggest charts.\"\n",
              "            style=\"display:none;\">\n",
              "\n",
              "<svg xmlns=\"http://www.w3.org/2000/svg\" height=\"24px\"viewBox=\"0 0 24 24\"\n",
              "     width=\"24px\">\n",
              "    <g>\n",
              "        <path d=\"M19 3H5c-1.1 0-2 .9-2 2v14c0 1.1.9 2 2 2h14c1.1 0 2-.9 2-2V5c0-1.1-.9-2-2-2zM9 17H7v-7h2v7zm4 0h-2V7h2v10zm4 0h-2v-4h2v4z\"/>\n",
              "    </g>\n",
              "</svg>\n",
              "  </button>\n",
              "\n",
              "<style>\n",
              "  .colab-df-quickchart {\n",
              "      --bg-color: #E8F0FE;\n",
              "      --fill-color: #1967D2;\n",
              "      --hover-bg-color: #E2EBFA;\n",
              "      --hover-fill-color: #174EA6;\n",
              "      --disabled-fill-color: #AAA;\n",
              "      --disabled-bg-color: #DDD;\n",
              "  }\n",
              "\n",
              "  [theme=dark] .colab-df-quickchart {\n",
              "      --bg-color: #3B4455;\n",
              "      --fill-color: #D2E3FC;\n",
              "      --hover-bg-color: #434B5C;\n",
              "      --hover-fill-color: #FFFFFF;\n",
              "      --disabled-bg-color: #3B4455;\n",
              "      --disabled-fill-color: #666;\n",
              "  }\n",
              "\n",
              "  .colab-df-quickchart {\n",
              "    background-color: var(--bg-color);\n",
              "    border: none;\n",
              "    border-radius: 50%;\n",
              "    cursor: pointer;\n",
              "    display: none;\n",
              "    fill: var(--fill-color);\n",
              "    height: 32px;\n",
              "    padding: 0;\n",
              "    width: 32px;\n",
              "  }\n",
              "\n",
              "  .colab-df-quickchart:hover {\n",
              "    background-color: var(--hover-bg-color);\n",
              "    box-shadow: 0 1px 2px rgba(60, 64, 67, 0.3), 0 1px 3px 1px rgba(60, 64, 67, 0.15);\n",
              "    fill: var(--button-hover-fill-color);\n",
              "  }\n",
              "\n",
              "  .colab-df-quickchart-complete:disabled,\n",
              "  .colab-df-quickchart-complete:disabled:hover {\n",
              "    background-color: var(--disabled-bg-color);\n",
              "    fill: var(--disabled-fill-color);\n",
              "    box-shadow: none;\n",
              "  }\n",
              "\n",
              "  .colab-df-spinner {\n",
              "    border: 2px solid var(--fill-color);\n",
              "    border-color: transparent;\n",
              "    border-bottom-color: var(--fill-color);\n",
              "    animation:\n",
              "      spin 1s steps(1) infinite;\n",
              "  }\n",
              "\n",
              "  @keyframes spin {\n",
              "    0% {\n",
              "      border-color: transparent;\n",
              "      border-bottom-color: var(--fill-color);\n",
              "      border-left-color: var(--fill-color);\n",
              "    }\n",
              "    20% {\n",
              "      border-color: transparent;\n",
              "      border-left-color: var(--fill-color);\n",
              "      border-top-color: var(--fill-color);\n",
              "    }\n",
              "    30% {\n",
              "      border-color: transparent;\n",
              "      border-left-color: var(--fill-color);\n",
              "      border-top-color: var(--fill-color);\n",
              "      border-right-color: var(--fill-color);\n",
              "    }\n",
              "    40% {\n",
              "      border-color: transparent;\n",
              "      border-right-color: var(--fill-color);\n",
              "      border-top-color: var(--fill-color);\n",
              "    }\n",
              "    60% {\n",
              "      border-color: transparent;\n",
              "      border-right-color: var(--fill-color);\n",
              "    }\n",
              "    80% {\n",
              "      border-color: transparent;\n",
              "      border-right-color: var(--fill-color);\n",
              "      border-bottom-color: var(--fill-color);\n",
              "    }\n",
              "    90% {\n",
              "      border-color: transparent;\n",
              "      border-bottom-color: var(--fill-color);\n",
              "    }\n",
              "  }\n",
              "</style>\n",
              "\n",
              "  <script>\n",
              "    async function quickchart(key) {\n",
              "      const quickchartButtonEl =\n",
              "        document.querySelector('#' + key + ' button');\n",
              "      quickchartButtonEl.disabled = true;  // To prevent multiple clicks.\n",
              "      quickchartButtonEl.classList.add('colab-df-spinner');\n",
              "      try {\n",
              "        const charts = await google.colab.kernel.invokeFunction(\n",
              "            'suggestCharts', [key], {});\n",
              "      } catch (error) {\n",
              "        console.error('Error during call to suggestCharts:', error);\n",
              "      }\n",
              "      quickchartButtonEl.classList.remove('colab-df-spinner');\n",
              "      quickchartButtonEl.classList.add('colab-df-quickchart-complete');\n",
              "    }\n",
              "    (() => {\n",
              "      let quickchartButtonEl =\n",
              "        document.querySelector('#df-5635b4c1-6fb3-4908-8f32-1abab4a93a0c button');\n",
              "      quickchartButtonEl.style.display =\n",
              "        google.colab.kernel.accessAllowed ? 'block' : 'none';\n",
              "    })();\n",
              "  </script>\n",
              "</div>\n",
              "    </div>\n",
              "  </div>\n"
            ]
          },
          "metadata": {},
          "execution_count": 12
        }
      ],
      "source": [
        "import pandas as pd\n",
        "data= pd.read_csv(\"dataset_project_eHealth20232024.csv\")\n",
        "phq = data.filter(['age', 'gender', 'education', 'marital', 'income', 'phq_1', 'phq_2', 'phq_3', 'phq_4', 'phq_5', 'phq_6', 'phq_7', 'phq_8', 'phq_9', 'phq_10', 'phq_11', 'phq_12', 'phq_13'])\n",
        "phq"
      ]
    },
    {
      "cell_type": "code",
      "source": [
        "import pandas as pd\n",
        "from sklearn.datasets import make_blobs\n",
        "from sklearn.cluster import KMeans\n",
        "\n",
        "kmeans = KMeans(n_clusters=3)\n",
        "\n",
        "# drop row containing null values\n",
        "phq = phq.dropna()\n",
        "y = kmeans.fit_predict(phq[['age', 'gender', 'education', 'marital', 'income', \"phq_1\", \"phq_2\", \"phq_3\", \"phq_4\", \"phq_5\", \"phq_6\", \"phq_7\", \"phq_8\", \"phq_9\"]])\n",
        "phq['Cluster'] = y\n",
        "kmeans = KMeans(n_clusters=3)\n",
        "y = kmeans.fit_predict(phq[['age', 'gender', 'education', 'marital', 'income', \"phq_1\", \"phq_2\", \"phq_3\", \"phq_4\", \"phq_5\", \"phq_6\", \"phq_7\", \"phq_8\", \"phq_9\"]])\n",
        "\n",
        "phq['Cluster'] = y\n",
        "\n",
        "print(phq)"
      ],
      "metadata": {
        "colab": {
          "base_uri": "https://localhost:8080/"
        },
        "id": "tAvhtEHHZHb9",
        "outputId": "54a82466-abce-400f-d44f-32fbdf167945"
      },
      "execution_count": 13,
      "outputs": [
        {
          "output_type": "stream",
          "name": "stdout",
          "text": [
            "      age  gender  education  marital  income  phq_1  phq_2  phq_3  phq_4  \\\n",
            "0    42.0       1        5.0        1   18000      0    0.0    1.0      0   \n",
            "1    51.0       3       18.0        1   23000      0    0.0    0.0      0   \n",
            "2    40.0       0        8.0        1   10000      0    0.0    0.0      0   \n",
            "3    19.0       0       25.0        5   31000      2    1.0    0.0      0   \n",
            "5    48.0       2       13.0        1   11000      0    0.0    0.0      1   \n",
            "..    ...     ...        ...      ...     ...    ...    ...    ...    ...   \n",
            "154  53.0       2        8.0        1   13000      0    0.0    1.0      0   \n",
            "155  29.0       2       18.0        0   25000      0    2.0    0.0      2   \n",
            "156  40.0       1       13.0        5   27000      2    1.0    2.0      0   \n",
            "157  40.0       0       13.0        0   26000      0    0.0    2.0      1   \n",
            "159  55.0       0        8.0        2   32199      0    0.0    0.0      0   \n",
            "\n",
            "     phq_5  phq_6  phq_7  phq_8  phq_9  Cluster  \n",
            "0        0      0    1.0    0.0    0.0        0  \n",
            "1        0      0    0.0    0.0    0.0        0  \n",
            "2        1      0    0.0    0.0    0.0        0  \n",
            "3        2      0    0.0    0.0    0.0        2  \n",
            "5        0      0    1.0    0.0    0.0        0  \n",
            "..     ...    ...    ...    ...    ...      ...  \n",
            "154      0      0    0.0    0.0    0.0        0  \n",
            "155      0      2    0.0    1.0    0.0        2  \n",
            "156      2      1    0.0    0.0    1.0        2  \n",
            "157      0      0    0.0    0.0    2.0        2  \n",
            "159      0      0    0.0    0.0    0.0        2  \n",
            "\n",
            "[150 rows x 15 columns]\n"
          ]
        },
        {
          "output_type": "stream",
          "name": "stderr",
          "text": [
            "/usr/local/lib/python3.10/dist-packages/sklearn/cluster/_kmeans.py:870: FutureWarning: The default value of `n_init` will change from 10 to 'auto' in 1.4. Set the value of `n_init` explicitly to suppress the warning\n",
            "  warnings.warn(\n",
            "<ipython-input-13-c08f0a3a72b0>:10: SettingWithCopyWarning: \n",
            "A value is trying to be set on a copy of a slice from a DataFrame.\n",
            "Try using .loc[row_indexer,col_indexer] = value instead\n",
            "\n",
            "See the caveats in the documentation: https://pandas.pydata.org/pandas-docs/stable/user_guide/indexing.html#returning-a-view-versus-a-copy\n",
            "  phq['Cluster'] = y\n",
            "/usr/local/lib/python3.10/dist-packages/sklearn/cluster/_kmeans.py:870: FutureWarning: The default value of `n_init` will change from 10 to 'auto' in 1.4. Set the value of `n_init` explicitly to suppress the warning\n",
            "  warnings.warn(\n",
            "<ipython-input-13-c08f0a3a72b0>:14: SettingWithCopyWarning: \n",
            "A value is trying to be set on a copy of a slice from a DataFrame.\n",
            "Try using .loc[row_indexer,col_indexer] = value instead\n",
            "\n",
            "See the caveats in the documentation: https://pandas.pydata.org/pandas-docs/stable/user_guide/indexing.html#returning-a-view-versus-a-copy\n",
            "  phq['Cluster'] = y\n"
          ]
        }
      ]
    },
    {
      "cell_type": "code",
      "source": [
        "cluster_0 = phq.loc[phq['Cluster'] == 0]\n",
        "print(cluster_0)"
      ],
      "metadata": {
        "colab": {
          "base_uri": "https://localhost:8080/"
        },
        "id": "uBvZctfpaRtZ",
        "outputId": "8855067e-ce6e-4455-e7db-8c95543cc1ea"
      },
      "execution_count": 14,
      "outputs": [
        {
          "output_type": "stream",
          "name": "stdout",
          "text": [
            "      age  gender  education  marital  income  phq_1  phq_2  phq_3  phq_4  \\\n",
            "0    42.0       1        5.0        1   18000      0    0.0    1.0      0   \n",
            "1    51.0       3       18.0        1   23000      0    0.0    0.0      0   \n",
            "2    40.0       0        8.0        1   10000      0    0.0    0.0      0   \n",
            "5    48.0       2       13.0        1   11000      0    0.0    0.0      1   \n",
            "8    40.0       3       18.0        3   12000      0    0.0    0.0      1   \n",
            "19   37.0       3       13.0        2   15399      0    0.0    0.0      1   \n",
            "20   47.0       1       18.0        1   14000      0    0.0    0.0      1   \n",
            "21   53.0       2       13.0        1   20000      0    0.0    0.0      0   \n",
            "29   37.0       1        5.0        3   16000      0    0.0    0.0      0   \n",
            "30   54.0       1        8.0        2   22400      0    1.0    0.0      0   \n",
            "37   39.0       1        8.0        1   24000      0    0.0    0.0      1   \n",
            "42   38.0       1        5.0        1   24000      0    0.0    0.0      0   \n",
            "43   50.0       3       18.0        1   20000      0    0.0    1.0      1   \n",
            "45   36.0       1       18.0        4   19000      0    0.0    0.0      1   \n",
            "46   44.0       0       13.0        4   15000      1    1.0    0.0      1   \n",
            "58   42.0       3       13.0        2   15399      1    1.0    0.0      0   \n",
            "60   53.0       0        5.0        5   12000      0    0.0    0.0      0   \n",
            "61   39.0       2        8.0        4   12000      1    0.0    1.0      0   \n",
            "63   36.0       2       13.0        1   21000      0    0.0    1.0      0   \n",
            "68   47.0       3        8.0        3   16000      0    0.0    0.0      0   \n",
            "70   51.0       0        8.0        2   15399      0    0.0    0.0      0   \n",
            "73   54.0       3       18.0        4   21000      0    1.0    1.0      0   \n",
            "79   52.0       2       13.0        2   23800      0    0.0    0.0      0   \n",
            "86   53.0       3       13.0        1   17000      0    0.0    0.0      0   \n",
            "91   44.0       0       13.0        4   15000      1    1.0    0.0      1   \n",
            "95   37.0       1        5.0        4   22000      0    0.0    1.0      0   \n",
            "96   42.0       1        8.0        2   22400      0    1.0    0.0      1   \n",
            "101  42.0       2        8.0        1   17000      1    0.0    0.0      0   \n",
            "108  54.0       1        8.0        4   20000      1    0.0    0.0      0   \n",
            "116  53.0       1       13.0        1   18000      0    1.0    1.0      0   \n",
            "118  45.0       1        8.0        1   11000      0    0.0    1.0      0   \n",
            "122  48.0       2        8.0        3   16000      0    0.0    0.0      0   \n",
            "123  39.0       3        5.0        5   20000      0    1.0    0.0      0   \n",
            "131  43.0       3       18.0        4   21000      0    1.0    0.0      0   \n",
            "132  40.0       0        8.0        1   17000      0    0.0    0.0      0   \n",
            "133  48.0       3       13.0        1   21000      0    1.0    1.0      0   \n",
            "135  44.0       3       13.0        1   17000      1    0.0    0.0      0   \n",
            "142  45.0       3        8.0        1   22000      0    0.0    0.0      0   \n",
            "149  53.0       1        8.0        1   16000      0    0.0    0.0      1   \n",
            "153  36.0       2       13.0        1   21000      0    0.0    1.0      0   \n",
            "154  53.0       2        8.0        1   13000      0    0.0    1.0      0   \n",
            "\n",
            "     phq_5  phq_6  phq_7  phq_8  phq_9  Cluster  \n",
            "0        0      0    1.0    0.0    0.0        0  \n",
            "1        0      0    0.0    0.0    0.0        0  \n",
            "2        1      0    0.0    0.0    0.0        0  \n",
            "5        0      0    1.0    0.0    0.0        0  \n",
            "8        0      0    0.0    0.0    0.0        0  \n",
            "19       1      0    0.0    0.0    0.0        0  \n",
            "20       0      0    0.0    0.0    0.0        0  \n",
            "21       0      1    0.0    0.0    0.0        0  \n",
            "29       1      0    0.0    0.0    0.0        0  \n",
            "30       0      0    0.0    1.0    0.0        0  \n",
            "37       0      1    0.0    1.0    0.0        0  \n",
            "42       0      1    1.0    0.0    0.0        0  \n",
            "43       1      0    0.0    0.0    1.0        0  \n",
            "45       0      0    0.0    0.0    0.0        0  \n",
            "46       0      0    0.0    1.0    0.0        0  \n",
            "58       0      0    1.0    0.0    1.0        0  \n",
            "60       0      0    0.0    0.0    1.0        0  \n",
            "61       0      0    1.0    1.0    0.0        0  \n",
            "63       0      0    0.0    0.0    0.0        0  \n",
            "68       0      0    0.0    0.0    0.0        0  \n",
            "70       1      1    0.0    1.0    1.0        0  \n",
            "73       1      0    1.0    0.0    0.0        0  \n",
            "79       0      0    0.0    0.0    0.0        0  \n",
            "86       0      0    0.0    0.0    0.0        0  \n",
            "91       0      0    0.0    1.0    0.0        0  \n",
            "95       0      0    0.0    0.0    0.0        0  \n",
            "96       0      1    0.0    0.0    1.0        0  \n",
            "101      0      0    1.0    1.0    0.0        0  \n",
            "108      0      1    0.0    1.0    1.0        0  \n",
            "116      0      0    1.0    1.0    0.0        0  \n",
            "118      1      0    0.0    0.0    0.0        0  \n",
            "122      1      0    0.0    0.0    0.0        0  \n",
            "123      0      0    0.0    0.0    0.0        0  \n",
            "131      0      0    0.0    0.0    0.0        0  \n",
            "132      1      0    0.0    0.0    0.0        0  \n",
            "133      1      0    0.0    0.0    0.0        0  \n",
            "135      0      1    0.0    1.0    1.0        0  \n",
            "142      0      0    0.0    0.0    0.0        0  \n",
            "149      1      0    1.0    0.0    0.0        0  \n",
            "153      0      0    0.0    0.0    0.0        0  \n",
            "154      0      0    0.0    0.0    0.0        0  \n"
          ]
        }
      ]
    },
    {
      "cell_type": "code",
      "source": [
        "print(cluster_0.mean())"
      ],
      "metadata": {
        "colab": {
          "base_uri": "https://localhost:8080/"
        },
        "id": "0RgvDOioaZt1",
        "outputId": "714bc218-8a8b-4be6-cc3c-d8f356ecb76a"
      },
      "execution_count": 15,
      "outputs": [
        {
          "output_type": "stream",
          "name": "stdout",
          "text": [
            "age             45.097561\n",
            "gender           1.707317\n",
            "education       10.853659\n",
            "marital          2.121951\n",
            "income       17726.756098\n",
            "phq_1            0.170732\n",
            "phq_2            0.243902\n",
            "phq_3            0.268293\n",
            "phq_4            0.268293\n",
            "phq_5            0.268293\n",
            "phq_6            0.170732\n",
            "phq_7            0.219512\n",
            "phq_8            0.243902\n",
            "phq_9            0.170732\n",
            "Cluster          0.000000\n",
            "dtype: float64\n"
          ]
        }
      ]
    },
    {
      "cell_type": "code",
      "source": [
        "print(cluster_0.min())"
      ],
      "metadata": {
        "colab": {
          "base_uri": "https://localhost:8080/"
        },
        "id": "d8EvyPAocsdQ",
        "outputId": "43fc6c2c-bad1-4286-aac4-ab4ac0f9fb3e"
      },
      "execution_count": 29,
      "outputs": [
        {
          "output_type": "stream",
          "name": "stdout",
          "text": [
            "age             36.0\n",
            "gender           0.0\n",
            "education        5.0\n",
            "marital          1.0\n",
            "income       10000.0\n",
            "phq_1            0.0\n",
            "phq_2            0.0\n",
            "phq_3            0.0\n",
            "phq_4            0.0\n",
            "phq_5            0.0\n",
            "phq_6            0.0\n",
            "phq_7            0.0\n",
            "phq_8            0.0\n",
            "phq_9            0.0\n",
            "Cluster          0.0\n",
            "dtype: float64\n"
          ]
        }
      ]
    },
    {
      "cell_type": "code",
      "source": [
        "print(cluster_0.max())"
      ],
      "metadata": {
        "colab": {
          "base_uri": "https://localhost:8080/"
        },
        "id": "QyKsbzu2cu84",
        "outputId": "ae0dcfc0-9962-4666-d99c-120a1be46a2a"
      },
      "execution_count": 30,
      "outputs": [
        {
          "output_type": "stream",
          "name": "stdout",
          "text": [
            "age             54.0\n",
            "gender           3.0\n",
            "education       18.0\n",
            "marital          5.0\n",
            "income       24000.0\n",
            "phq_1            1.0\n",
            "phq_2            1.0\n",
            "phq_3            1.0\n",
            "phq_4            1.0\n",
            "phq_5            1.0\n",
            "phq_6            1.0\n",
            "phq_7            1.0\n",
            "phq_8            1.0\n",
            "phq_9            1.0\n",
            "Cluster          0.0\n",
            "dtype: float64\n"
          ]
        }
      ]
    },
    {
      "cell_type": "code",
      "source": [
        "len(cluster_0.index)"
      ],
      "metadata": {
        "colab": {
          "base_uri": "https://localhost:8080/"
        },
        "id": "Fd5wKXAvaps_",
        "outputId": "4c6f8454-924a-4f82-b861-4e252cf1cfe1"
      },
      "execution_count": 16,
      "outputs": [
        {
          "output_type": "execute_result",
          "data": {
            "text/plain": [
              "41"
            ]
          },
          "metadata": {},
          "execution_count": 16
        }
      ]
    },
    {
      "cell_type": "code",
      "source": [
        "cluster_1 = phq.loc[phq['Cluster'] == 1]\n",
        "print(cluster_1)"
      ],
      "metadata": {
        "colab": {
          "base_uri": "https://localhost:8080/"
        },
        "id": "LtLggGBvavSx",
        "outputId": "6a3b0535-ff88-468d-da88-9bd876d34fe5"
      },
      "execution_count": 17,
      "outputs": [
        {
          "output_type": "stream",
          "name": "stdout",
          "text": [
            "      age  gender  education  marital  income  phq_1  phq_2  phq_3  phq_4  \\\n",
            "12   19.0       0       18.0        0   40000      2    2.0    0.0      0   \n",
            "13   41.0       0       13.0        2   47600      0    1.0    1.0      0   \n",
            "25   52.0       2        8.0        5   39000      2    0.0    2.0      1   \n",
            "28   54.0       2       13.0        2   56000      0    0.0    1.0      1   \n",
            "31   48.0       3       13.0        2   51800      0    0.0    0.0      0   \n",
            "34   37.0       0       13.0        1   39000      1    1.0    0.0      0   \n",
            "35   25.0       0       22.0        0   39000      1    0.0    0.0      1   \n",
            "38   42.0       3        8.0        1   38000      1    1.0    0.0      1   \n",
            "41   32.0       0       22.0        2   50400      0    1.0    1.0      2   \n",
            "48   28.0       3       25.0        0   38000      0    0.0    2.0      1   \n",
            "52   52.0       1       22.0        2   54600      0    1.0    0.0      0   \n",
            "54   53.0       2       13.0        2   42000      2    2.0    0.0      0   \n",
            "57   22.0       1       13.0        0   39000      1    2.0    1.0      2   \n",
            "65   32.0       2       13.0        2   50400      0    2.0    1.0      0   \n",
            "67   51.0       0       13.0        1   40000      0    0.0    0.0      1   \n",
            "69   18.0       1       13.0        2   37800      0    2.0    2.0      0   \n",
            "72   44.0       0       18.0        1   40000      2    0.0    0.0      0   \n",
            "88   18.0       1       22.0        5   37000      1    0.0    2.0      0   \n",
            "93   31.0       0       22.0        2   39200      2    0.0    0.0      0   \n",
            "105  20.0       2       22.0        1   38000      2    0.0    0.0      1   \n",
            "107  28.0       3       25.0        0   38000      0    0.0    2.0      1   \n",
            "109  38.0       3       13.0        0   39000      2    0.0    0.0      2   \n",
            "110  50.0       2       13.0        2   51800      0    0.0    0.0      2   \n",
            "117  33.0       3       22.0        2   49000      0    0.0    0.0      2   \n",
            "139  42.0       2       13.0        1   40000      2    0.0    0.0      0   \n",
            "145  36.0       0        8.0        1   38000      1    0.0    0.0      0   \n",
            "\n",
            "     phq_5  phq_6  phq_7  phq_8  phq_9  Cluster  \n",
            "12       1      0    2.0    0.0    2.0        1  \n",
            "13       2      0    0.0    2.0    0.0        1  \n",
            "25       0      0    2.0    2.0    0.0        1  \n",
            "28       0      2    0.0    2.0    0.0        1  \n",
            "31       0      2    1.0    0.0    2.0        1  \n",
            "34       0      2    2.0    2.0    1.0        1  \n",
            "35       1      2    1.0    0.0    1.0        1  \n",
            "38       1      1    1.0    1.0    2.0        1  \n",
            "41       0      0    0.0    0.0    2.0        1  \n",
            "48       0      2    0.0    0.0    0.0        1  \n",
            "52       0      2    1.0    2.0    0.0        1  \n",
            "54       1      0    0.0    1.0    0.0        1  \n",
            "57       2      0    0.0    0.0    0.0        1  \n",
            "65       0      0    2.0    0.0    1.0        1  \n",
            "67       0      0    1.0    2.0    2.0        1  \n",
            "69       1      2    2.0    0.0    0.0        1  \n",
            "72       2      0    1.0    2.0    1.0        1  \n",
            "88       1      1    1.0    1.0    2.0        1  \n",
            "93       0      2    1.0    2.0    1.0        1  \n",
            "105      0      0    1.0    1.0    0.0        1  \n",
            "107      0      2    0.0    0.0    0.0        1  \n",
            "109      0      2    0.0    0.0    0.0        1  \n",
            "110      0      1    1.0    2.0    1.0        1  \n",
            "117      0      0    2.0    1.0    1.0        1  \n",
            "139      1      1    1.0    0.0    2.0        1  \n",
            "145      0      2    2.0    0.0    0.0        1  \n"
          ]
        }
      ]
    },
    {
      "cell_type": "code",
      "source": [
        "print(cluster_1.mean())"
      ],
      "metadata": {
        "colab": {
          "base_uri": "https://localhost:8080/"
        },
        "id": "0zj-U2U7bB_4",
        "outputId": "2ca039de-26b9-4986-87b7-da5c71233f51"
      },
      "execution_count": 18,
      "outputs": [
        {
          "output_type": "stream",
          "name": "stdout",
          "text": [
            "age             36.384615\n",
            "gender           1.384615\n",
            "education       16.153846\n",
            "marital          1.500000\n",
            "income       42792.307692\n",
            "phq_1            0.846154\n",
            "phq_2            0.576923\n",
            "phq_3            0.576923\n",
            "phq_4            0.692308\n",
            "phq_5            0.500000\n",
            "phq_6            1.000000\n",
            "phq_7            0.961538\n",
            "phq_8            0.884615\n",
            "phq_9            0.807692\n",
            "Cluster          1.000000\n",
            "dtype: float64\n"
          ]
        }
      ]
    },
    {
      "cell_type": "code",
      "source": [
        "print(cluster_1.min())"
      ],
      "metadata": {
        "colab": {
          "base_uri": "https://localhost:8080/"
        },
        "id": "yPfqacbJci4x",
        "outputId": "e8a80ccc-5a16-457e-9ee0-e8d9b1d34d49"
      },
      "execution_count": 26,
      "outputs": [
        {
          "output_type": "stream",
          "name": "stdout",
          "text": [
            "age             18.0\n",
            "gender           0.0\n",
            "education        8.0\n",
            "marital          0.0\n",
            "income       37000.0\n",
            "phq_1            0.0\n",
            "phq_2            0.0\n",
            "phq_3            0.0\n",
            "phq_4            0.0\n",
            "phq_5            0.0\n",
            "phq_6            0.0\n",
            "phq_7            0.0\n",
            "phq_8            0.0\n",
            "phq_9            0.0\n",
            "Cluster          1.0\n",
            "dtype: float64\n"
          ]
        }
      ]
    },
    {
      "cell_type": "code",
      "source": [
        "print(cluster_1.max())"
      ],
      "metadata": {
        "colab": {
          "base_uri": "https://localhost:8080/"
        },
        "id": "9d5jGQuDcmV1",
        "outputId": "a60fcaf7-e0a5-495a-dc41-d7bbbdf7a165"
      },
      "execution_count": 28,
      "outputs": [
        {
          "output_type": "stream",
          "name": "stdout",
          "text": [
            "age             54.0\n",
            "gender           3.0\n",
            "education       25.0\n",
            "marital          5.0\n",
            "income       56000.0\n",
            "phq_1            2.0\n",
            "phq_2            2.0\n",
            "phq_3            2.0\n",
            "phq_4            2.0\n",
            "phq_5            2.0\n",
            "phq_6            2.0\n",
            "phq_7            2.0\n",
            "phq_8            2.0\n",
            "phq_9            2.0\n",
            "Cluster          1.0\n",
            "dtype: float64\n"
          ]
        }
      ]
    },
    {
      "cell_type": "code",
      "source": [
        "len(cluster_1.index)"
      ],
      "metadata": {
        "colab": {
          "base_uri": "https://localhost:8080/"
        },
        "id": "zX29acP9cB0X",
        "outputId": "3682794a-152b-46e7-832b-206670e60fc8"
      },
      "execution_count": 19,
      "outputs": [
        {
          "output_type": "execute_result",
          "data": {
            "text/plain": [
              "26"
            ]
          },
          "metadata": {},
          "execution_count": 19
        }
      ]
    },
    {
      "cell_type": "code",
      "source": [
        "cluster_2 = phq.loc[phq['Cluster'] == 2]\n",
        "print(cluster_2)"
      ],
      "metadata": {
        "colab": {
          "base_uri": "https://localhost:8080/"
        },
        "id": "_riU3JNscHDj",
        "outputId": "5578febb-dd40-4f03-8c67-17ff3a07fabb"
      },
      "execution_count": 20,
      "outputs": [
        {
          "output_type": "stream",
          "name": "stdout",
          "text": [
            "      age  gender  education  marital  income  phq_1  phq_2  phq_3  phq_4  \\\n",
            "3    19.0       0       25.0        5   31000      2    1.0    0.0      0   \n",
            "6    33.0       0       22.0        2   36400      0    1.0    0.0      2   \n",
            "7    55.0       2        8.0        2   28000      0    0.0    0.0      0   \n",
            "9    46.0       2       13.0        1   35000      2    0.0    2.0      1   \n",
            "10   27.0       3       13.0        0   25000      0    1.0    1.0      0   \n",
            "..    ...     ...        ...      ...     ...    ...    ...    ...    ...   \n",
            "152  49.0       3       13.0        1   31000      0    0.0    1.0      0   \n",
            "155  29.0       2       18.0        0   25000      0    2.0    0.0      2   \n",
            "156  40.0       1       13.0        5   27000      2    1.0    2.0      0   \n",
            "157  40.0       0       13.0        0   26000      0    0.0    2.0      1   \n",
            "159  55.0       0        8.0        2   32199      0    0.0    0.0      0   \n",
            "\n",
            "     phq_5  phq_6  phq_7  phq_8  phq_9  Cluster  \n",
            "3        2      0    0.0    0.0    0.0        2  \n",
            "6        1      1    0.0    2.0    0.0        2  \n",
            "7        0      0    0.0    0.0    0.0        2  \n",
            "9        0      2    2.0    0.0    0.0        2  \n",
            "10       2      0    0.0    2.0    2.0        2  \n",
            "..     ...    ...    ...    ...    ...      ...  \n",
            "152      0      2    2.0    0.0    0.0        2  \n",
            "155      0      2    0.0    1.0    0.0        2  \n",
            "156      2      1    0.0    0.0    1.0        2  \n",
            "157      0      0    0.0    0.0    2.0        2  \n",
            "159      0      0    0.0    0.0    0.0        2  \n",
            "\n",
            "[83 rows x 15 columns]\n"
          ]
        }
      ]
    },
    {
      "cell_type": "code",
      "source": [
        "print(cluster_2.mean())"
      ],
      "metadata": {
        "colab": {
          "base_uri": "https://localhost:8080/"
        },
        "id": "9anVMwnacNO2",
        "outputId": "98ad16a2-46ff-4295-d3e8-8bebabd18d19"
      },
      "execution_count": 22,
      "outputs": [
        {
          "output_type": "stream",
          "name": "stdout",
          "text": [
            "age             36.662651\n",
            "gender           1.566265\n",
            "education       15.253012\n",
            "marital          1.265060\n",
            "income       30587.939759\n",
            "phq_1            0.795181\n",
            "phq_2            0.674699\n",
            "phq_3            0.891566\n",
            "phq_4            0.722892\n",
            "phq_5            0.626506\n",
            "phq_6            0.819277\n",
            "phq_7            0.807229\n",
            "phq_8            0.686747\n",
            "phq_9            0.506024\n",
            "Cluster          2.000000\n",
            "dtype: float64\n"
          ]
        }
      ]
    },
    {
      "cell_type": "code",
      "source": [
        "print(cluster_2.min())"
      ],
      "metadata": {
        "colab": {
          "base_uri": "https://localhost:8080/"
        },
        "id": "t7dtQxkLcYcS",
        "outputId": "a6c6af70-9347-46f1-b5e3-d88b3c1ff12c"
      },
      "execution_count": 24,
      "outputs": [
        {
          "output_type": "stream",
          "name": "stdout",
          "text": [
            "age             19.0\n",
            "gender           0.0\n",
            "education        5.0\n",
            "marital          0.0\n",
            "income       25000.0\n",
            "phq_1            0.0\n",
            "phq_2            0.0\n",
            "phq_3            0.0\n",
            "phq_4            0.0\n",
            "phq_5            0.0\n",
            "phq_6            0.0\n",
            "phq_7            0.0\n",
            "phq_8            0.0\n",
            "phq_9            0.0\n",
            "Cluster          2.0\n",
            "dtype: float64\n"
          ]
        }
      ]
    },
    {
      "cell_type": "code",
      "source": [
        "print(cluster_2.max())"
      ],
      "metadata": {
        "colab": {
          "base_uri": "https://localhost:8080/"
        },
        "id": "Qnn7iEysccTJ",
        "outputId": "899aac13-4ba4-4adb-d6c9-adfd43cb8f81"
      },
      "execution_count": 25,
      "outputs": [
        {
          "output_type": "stream",
          "name": "stdout",
          "text": [
            "age             55.0\n",
            "gender           3.0\n",
            "education       25.0\n",
            "marital          5.0\n",
            "income       36400.0\n",
            "phq_1            2.0\n",
            "phq_2            2.0\n",
            "phq_3            2.0\n",
            "phq_4            2.0\n",
            "phq_5            2.0\n",
            "phq_6            2.0\n",
            "phq_7            2.0\n",
            "phq_8            2.0\n",
            "phq_9            2.0\n",
            "Cluster          2.0\n",
            "dtype: float64\n"
          ]
        }
      ]
    },
    {
      "cell_type": "code",
      "source": [
        "len(cluster_2.index)"
      ],
      "metadata": {
        "colab": {
          "base_uri": "https://localhost:8080/"
        },
        "id": "ZCKQcrxIcUjD",
        "outputId": "1c5321fc-e9ed-4ebd-d7f7-4be687cb344c"
      },
      "execution_count": 31,
      "outputs": [
        {
          "output_type": "execute_result",
          "data": {
            "text/plain": [
              "83"
            ]
          },
          "metadata": {},
          "execution_count": 31
        }
      ]
    },
    {
      "cell_type": "code",
      "source": [
        "def find_majority(k):\n",
        "    myMap = {}\n",
        "    maximum = ( '', 0 ) # (occurring element, occurrences)\n",
        "    for n in k:\n",
        "        if n in myMap: myMap[n] += 1\n",
        "        else: myMap[n] = 1\n",
        "\n",
        "        # Keep track of maximum on the go\n",
        "        if myMap[n] > maximum[1]: maximum = (n,myMap[n])\n",
        "\n",
        "    return maximum"
      ],
      "metadata": {
        "id": "L_-h-Mktc1jh"
      },
      "execution_count": 32,
      "outputs": []
    },
    {
      "cell_type": "code",
      "source": [
        "gender_0 = cluster_0['gender']\n",
        "find_majority(gender_0)"
      ],
      "metadata": {
        "colab": {
          "base_uri": "https://localhost:8080/"
        },
        "id": "trG_cSPldQqI",
        "outputId": "cc44f658-ec3b-4a17-df5a-1aedabb6323e"
      },
      "execution_count": 34,
      "outputs": [
        {
          "output_type": "execute_result",
          "data": {
            "text/plain": [
              "(3, 13)"
            ]
          },
          "metadata": {},
          "execution_count": 34
        }
      ]
    },
    {
      "cell_type": "code",
      "source": [
        "marital_0 = cluster_0['marital']\n",
        "find_majority(marital_0)"
      ],
      "metadata": {
        "colab": {
          "base_uri": "https://localhost:8080/"
        },
        "id": "Hoijl9qNdXNL",
        "outputId": "89679662-25d8-417c-e07d-ae661f4e6255"
      },
      "execution_count": 35,
      "outputs": [
        {
          "output_type": "execute_result",
          "data": {
            "text/plain": [
              "(1, 21)"
            ]
          },
          "metadata": {},
          "execution_count": 35
        }
      ]
    },
    {
      "cell_type": "code",
      "source": [
        "gender_1 = cluster_1['gender']\n",
        "find_majority(gender_1)"
      ],
      "metadata": {
        "colab": {
          "base_uri": "https://localhost:8080/"
        },
        "id": "UPFcM3hTdSNn",
        "outputId": "1bd8efd2-dbdb-4017-a996-ad958d3be60b"
      },
      "execution_count": 36,
      "outputs": [
        {
          "output_type": "execute_result",
          "data": {
            "text/plain": [
              "(0, 9)"
            ]
          },
          "metadata": {},
          "execution_count": 36
        }
      ]
    },
    {
      "cell_type": "code",
      "source": [
        "marital_1 = cluster_1['marital']\n",
        "find_majority(marital_1)"
      ],
      "metadata": {
        "colab": {
          "base_uri": "https://localhost:8080/"
        },
        "id": "gxHh1ZgddYsc",
        "outputId": "5048a332-3c21-468e-d9a0-8679e3b9df60"
      },
      "execution_count": 37,
      "outputs": [
        {
          "output_type": "execute_result",
          "data": {
            "text/plain": [
              "(2, 11)"
            ]
          },
          "metadata": {},
          "execution_count": 37
        }
      ]
    },
    {
      "cell_type": "code",
      "source": [
        "gender_2 = cluster_2['gender']\n",
        "find_majority(gender_1)"
      ],
      "metadata": {
        "colab": {
          "base_uri": "https://localhost:8080/"
        },
        "id": "DcDhbJQodUTe",
        "outputId": "fd096ec7-a98d-4e13-998e-fd2069101448"
      },
      "execution_count": 38,
      "outputs": [
        {
          "output_type": "execute_result",
          "data": {
            "text/plain": [
              "(0, 9)"
            ]
          },
          "metadata": {},
          "execution_count": 38
        }
      ]
    },
    {
      "cell_type": "code",
      "source": [
        "marital_2 = cluster_2['marital']\n",
        "find_majority(marital_2)"
      ],
      "metadata": {
        "colab": {
          "base_uri": "https://localhost:8080/"
        },
        "id": "7dSDOVGRdZxL",
        "outputId": "a026bead-7fd8-4d42-8efe-8d1ecebf9188"
      },
      "execution_count": 39,
      "outputs": [
        {
          "output_type": "execute_result",
          "data": {
            "text/plain": [
              "(1, 38)"
            ]
          },
          "metadata": {},
          "execution_count": 39
        }
      ]
    }
  ]
}